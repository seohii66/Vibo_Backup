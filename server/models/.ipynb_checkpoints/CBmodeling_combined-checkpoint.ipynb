{
 "cells": [
  {
   "cell_type": "code",
   "execution_count": 8,
   "id": "57801028-076d-4217-998f-8c49e5bb948c",
   "metadata": {},
   "outputs": [
    {
     "ename": "SyntaxError",
     "evalue": "invalid syntax (904119786.py, line 1)",
     "output_type": "error",
     "traceback": [
      "\u001b[1;36m  Cell \u001b[1;32mIn[8], line 1\u001b[1;36m\u001b[0m\n\u001b[1;33m    pip install --upgrade pip\u001b[0m\n\u001b[1;37m        ^\u001b[0m\n\u001b[1;31mSyntaxError\u001b[0m\u001b[1;31m:\u001b[0m invalid syntax\n"
     ]
    }
   ],
   "source": [
    "pip install --upgrade pip;\n",
    "pip install --upgrade gensim;\n"
   ]
  },
  {
   "cell_type": "code",
   "execution_count": 4,
   "id": "2d0de1d8",
   "metadata": {},
   "outputs": [],
   "source": [
    "import pandas as pd\n",
    "import matplotlib.pyplot as plt\n",
    "import urllib.request\n",
    "import random\n",
    "import numpy as np\n",
    "from gensim.models import Word2Vec\n",
    "from gensim.models import KeyedVectors\n",
    "from collections import Counter\n",
    "\n",
    "\n",
    "# 모델 로드\n",
    "loaded_model = KeyedVectors.load_word2vec_format(\"./word2vec_model\") \n",
    "# 데이터베이스 불러오기\n",
    "df = pd.read_csv('./Clustering_kmode.csv',encoding='utf-8')\n",
    "df = df.drop(columns = ['Unnamed: 0'])\n",
    "def match(res):\n",
    "    #사용자가 버튼으로 입력하는 값을 db의 단어와 매칭하기 위한 db\n",
    "    # 맛 V : '맛'으로 입력된다고 가정 -> '맛있다'로 변환\n",
    "    word_dict = {'우유맛':'유제품맛','새콤':'신맛','달콤':'단맛','과일맛':'과일맛','맛':'맛있다','재구매':'있음','목넘김':'좋음'}\n",
    "    for i in range(len(res)):\n",
    "        word = res[i] \n",
    "        if word in word_dict:\n",
    "            res[i] = word_dict[word]\n",
    "    return res\n",
    "\n"
   ]
  },
  {
   "cell_type": "code",
   "execution_count": 3,
   "id": "fa8f8021",
   "metadata": {},
   "outputs": [],
   "source": [
    "# cluster에서 각 row에 대해 filtering 하기 위한 1차 filtering\n",
    "def filter(res):\n",
    "    taste_detail = ['단맛','신맛','유제품맛','과일맛']\n",
    "    func = ['피로회복','장건강','질건강','다이어트']\n",
    "    t,td,fu,tex,rebuy,rresult = [],[],[],[],[],[]\n",
    "    for i in res:\n",
    "        if i =='맛있다':\n",
    "            t.append(i)\n",
    "        elif i in taste_detail:\n",
    "            td.append(i)\n",
    "        elif i in func:\n",
    "            fu.append(i)\n",
    "        elif i == '좋음':\n",
    "            tex.append(i)\n",
    "        elif i == '있음':\n",
    "            rebuy.append(i)\n",
    "   \n",
    "    rresult.append(t)\n",
    "    rresult.append(td)\n",
    "    rresult.append(rebuy)\n",
    "    rresult.append(tex)\n",
    "    rresult.append(fu)\n",
    "    \n",
    "    return rresult"
   ]
  },
  {
   "cell_type": "code",
   "execution_count": 3,
   "id": "4b54dbf3",
   "metadata": {},
   "outputs": [],
   "source": [
    "#코사인 유사도 계산\n",
    "def cosine_similar(random):\n",
    "    cosine_df = pd.read_csv('./cosine_similarity.csv',encoding='utf-8')\n",
    "    cos_sim = []\n",
    "    target_text = cosine_df.iloc[random]\n",
    "\n",
    "\n",
    "    for i in range(len(cosine_df)):\n",
    "        cos_text = cosine_df.iloc[i]\n",
    "        cos = np.dot(target_text, cos_text) / (np.linalg.norm(target_text)*np.linalg.norm(cos_text))#코사인 유사도 식 구글링 통해서 검색 가능\n",
    "        cos_sim.append(cos)\n",
    "\n",
    "    cosine_df['cos_sim'] = cos_sim\n",
    "    cosine_df = cosine_df.drop(columns=['Unnamed: 0'])\n",
    "    new_result = cosine_df.sort_values(by='cos_sim',ascending=False)\n",
    "\n",
    "    # 유사도 순으로 제품명 확인 (target : 맨 처음 제품)\n",
    "    # 상위 5% 저장\n",
    "    recommend_item = []\n",
    "    for i in range(round(len(new_result)*0.05)):\n",
    "        pos=new_result.index[i]\n",
    "        recommend_item.append(df['item'].iloc[pos])\n",
    "    return recommend_item"
   ]
  },
  {
   "cell_type": "markdown",
   "id": "581d4405",
   "metadata": {},
   "source": [
    "## 사용자 입력"
   ]
  },
  {
   "cell_type": "code",
   "execution_count": 5,
   "id": "1f695ec1",
   "metadata": {},
   "outputs": [
    {
     "name": "stdout",
     "output_type": "stream",
     "text": [
      "사용자 입력 : 단맛 신맛 좋음 피로회복 다이어트\n"
     ]
    },
    {
     "data": {
      "text/plain": [
       "[[], ['단맛', '신맛'], ['있음'], ['좋음'], ['피로회복', '다이어트']]"
      ]
     },
     "execution_count": 5,
     "metadata": {},
     "output_type": "execute_result"
    }
   ],
   "source": [
    "# 앱의 backend에서 버튼으로 입력받아오면 수정하기\n",
    "user_choice = input('사용자 입력 : ')\n",
    "user_choice= user_choice.split()\n",
    "\n",
    "result = []\n",
    "#사용자의 입력값 개수에 따라 6개 미만 - word2vec으로 6개 채워서 result 리스트로 반환\n",
    "#                            6개 이상인 경우 모두 result로 저장\n",
    "\n",
    "if len(user_choice) < 6 :\n",
    "    w2v = loaded_model.most_similar(match(user_choice))\n",
    "    require_num = 6-len(user_choice)\n",
    "    for n in user_choice:\n",
    "        result.append(n)\n",
    "    for n in range(require_num):\n",
    "        result.append(w2v[n][0])\n",
    "else: \n",
    "    result = match(user_choice)\n",
    "    \n",
    "result = filter(result)\n",
    "result"
   ]
  },
  {
   "cell_type": "code",
   "execution_count": 6,
   "id": "eeb6a450",
   "metadata": {},
   "outputs": [],
   "source": [
    "\n",
    "# 사용자가 입력한 속성값과 일치하는 클러스터db 내 상품들 index 저장\n",
    "output = [[],[],[],[],[]]\n",
    "for i in range(2, df.shape[1]-2):\n",
    "    for j in range(0, df.shape[0]):\n",
    "        for item in range(len(result[i-2])):\n",
    "            if result[i-2][item] == df.iloc[j,i]:\n",
    "                output[i-2].append(df.index[j])\n",
    "                \n",
    "\n",
    "# 클러스터 db의 속성들과 가장 많이 일치하는 제품 index 추출\n",
    "\n",
    "# #collections.Counter는 일차리스트에서만 사용가능ㅏ\n",
    "          \n",
    "output_flat = sum(output,[])\n",
    "output_flat = list(map(str,output_flat))\n",
    "\n",
    "rank = Counter(output_flat).most_common()\n",
    "\n",
    "rank_num = [] \n",
    "items_first =[] #1순위\n",
    "items_second=[] #2순위\n",
    "num = list(rank)[-2:-1] \n",
    "\n",
    "for i in rank:\n",
    "    rank_num.append(i[1])\n",
    "    ranks = set(rank_num)\n",
    "    if i[1] == list(ranks)[-1]:\n",
    "        items_first.append(i[0])\n",
    "        \n",
    "    if i[1] == num[0] :\n",
    "        items_second.append(i[0])\n",
    "        "
   ]
  },
  {
   "cell_type": "code",
   "execution_count": 7,
   "id": "580db09c",
   "metadata": {},
   "outputs": [],
   "source": [
    "first,most_cluster = [],[]\n",
    "for i in items_first:\n",
    "    first.append(df.iloc[int(i),7])\n",
    "    \n",
    "clus = Counter(first).most_common()\n",
    "\n",
    "# 가장 많이 언급된 클러스터 순서대로 출력\n",
    "for i in range(len(Counter(first).most_common())):most_cluster.append(clus[i][0]) \n",
    "    \n",
    "# 가장 많이 언급된 클러스터 순서대로 , 언급된 횟수     \n",
    "#Counter(first).most_common()\n",
    "\n",
    "most = set(df[df.iloc[:,7]==most_cluster[0]]['ItemID'])\n",
    "choice_random = random.choice(list(most))"
   ]
  },
  {
   "cell_type": "code",
   "execution_count": 8,
   "id": "16807834",
   "metadata": {},
   "outputs": [
    {
     "data": {
      "text/plain": [
       "['센트룸맨+센트룸이뮨부스터',\n",
       " '센트룸멀티비타민실버포맨',\n",
       " '센트룸실버우먼+센트룸이뮨부스터',\n",
       " '센트룸우먼+센트룸이뮨부스터',\n",
       " '얼라이브원스데일리멀티비타민',\n",
       " '일양약품잇큐',\n",
       " '중외제약플러스코엔자임Q103개월분',\n",
       " '안국건강안심비타민D1000IU',\n",
       " '안국건강New루테인미니100',\n",
       " '얼라이브원스데일리50',\n",
       " '아임비타멀티비타민바이탈',\n",
       " '얼라이브원스데일리포우먼멀티비타민',\n",
       " '아이클리어루테인지아잔틴',\n",
       " '엔도스bykurly중성비타민C1000',\n",
       " '솔가에스터-C플러스비타민C500mg베지캡슐글루텐프리비건',\n",
       " '솔가에스터-C플러스비타민C500mg베지캡슐글루텐프리비건',\n",
       " '솔가비타민D31000IU',\n",
       " '유니시티바이오스라이프이에너지멀티비타민',\n",
       " '이머전씨이뮨+시스템서포트비타민D피지드링크믹스슈퍼오렌지비건무카페인',\n",
       " '솔가남성용멀티비타민오메가-3700',\n",
       " '셀파렉스에센셜포우먼/맨50',\n",
       " '종근당활력비타민B플러스',\n",
       " '센트룸비타민B군8종,비타민C,E,미네랄에너지B',\n",
       " '센시알파은행잎추출물비타민',\n",
       " '비타하임발포멀티비타민',\n",
       " '비타바움비타민B12플러스브이8/멀티비타민15중택1',\n",
       " '세노비스키즈멀티비타민',\n",
       " '얼라이브원스데일리멀티비타민+밀크씨슬42.',\n",
       " '세노비스여성용멀티비타민미네랄트윈',\n",
       " '쁘띠앤국민칼마디',\n",
       " '뽀로로비타민C복숭아맛',\n",
       " '젠와이즈리포소멀비타민C1500mg베지테리안캡슐',\n",
       " '종근당건강수분충전아쿠아워너비히알루론산',\n",
       " '종근당건강아임비타마그네슘',\n",
       " '종근당건강면역비타민C',\n",
       " '종근당건강아임비타멀티비타민이뮨샷',\n",
       " '종근당건강키즈멀티비타민미네랄',\n",
       " '자연의품격건강한간밀크씨슬',\n",
       " '자미에슨츄어블멀티비타민앤미네랄',\n",
       " '자미에슨츄어블멀티비타민앤미네랄']"
      ]
     },
     "execution_count": 8,
     "metadata": {},
     "output_type": "execute_result"
    }
   ],
   "source": [
    "cosine_similar(choice_random)"
   ]
  },
  {
   "cell_type": "code",
   "execution_count": null,
   "id": "7b56d081",
   "metadata": {},
   "outputs": [],
   "source": []
  }
 ],
 "metadata": {
  "kernelspec": {
   "display_name": "Python 3 (ipykernel)",
   "language": "python",
   "name": "python3"
  },
  "language_info": {
   "codemirror_mode": {
    "name": "ipython",
    "version": 3
   },
   "file_extension": ".py",
   "mimetype": "text/x-python",
   "name": "python",
   "nbconvert_exporter": "python",
   "pygments_lexer": "ipython3",
   "version": "3.10.4"
  }
 },
 "nbformat": 4,
 "nbformat_minor": 5
}
